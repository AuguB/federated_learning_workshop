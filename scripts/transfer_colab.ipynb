{
 "cells": [
  {
   "cell_type": "markdown",
   "metadata": {},
   "source": [
    "# Transfer\n",
    "This notebook will transfer a pre-fitted HBR model to a small dataset. "
   ]
  },
  {
   "cell_type": "code",
   "execution_count": 2,
   "metadata": {},
   "outputs": [
    {
     "name": "stdout",
     "output_type": "stream",
     "text": [
      "Collecting git+https://github.com/amarquand/PCNtoolkit.git@v1.alpha.6\n",
      "  Cloning https://github.com/amarquand/PCNtoolkit.git (to revision v1.alpha.6) to /private/var/folders/m8/vtbcb7c96ms3mbjny3b70h3w0000gp/T/pip-req-build-nyuq0v6n\n",
      "  Running command git clone --filter=blob:none --quiet https://github.com/amarquand/PCNtoolkit.git /private/var/folders/m8/vtbcb7c96ms3mbjny3b70h3w0000gp/T/pip-req-build-nyuq0v6n\n",
      "  Running command git checkout -q 1a61f549a4f7b26e4eab03ccc14030c497a24421\n",
      "  Resolved https://github.com/amarquand/PCNtoolkit.git to commit 1a61f549a4f7b26e4eab03ccc14030c497a24421\n",
      "  Installing build dependencies ... \u001b[?25ldone\n",
      "\u001b[?25h  Getting requirements to build wheel ... \u001b[?25ldone\n",
      "\u001b[?25h  Preparing metadata (pyproject.toml) ... \u001b[?25ldone\n",
      "\u001b[?25hRequirement already satisfied: numpy<2.0,>=1.26.4 in /opt/anaconda3/envs/federated_learning_workshop/lib/python3.12/site-packages (from pcntoolkit==1.0.0a6) (1.26.4)\n",
      "Requirement already satisfied: bspline>=0.1.1 in /opt/anaconda3/envs/federated_learning_workshop/lib/python3.12/site-packages (from pcntoolkit==1.0.0a6) (0.1.1)\n",
      "Requirement already satisfied: nibabel>=5.3.1 in /opt/anaconda3/envs/federated_learning_workshop/lib/python3.12/site-packages (from pcntoolkit==1.0.0a6) (5.3.2)\n",
      "Requirement already satisfied: pymc>=5.19.1 in /opt/anaconda3/envs/federated_learning_workshop/lib/python3.12/site-packages (from pcntoolkit==1.0.0a6) (5.22.0)\n",
      "Requirement already satisfied: scikit-learn>=1.5.2 in /opt/anaconda3/envs/federated_learning_workshop/lib/python3.12/site-packages (from pcntoolkit==1.0.0a6) (1.6.1)\n",
      "Requirement already satisfied: six>=1.16.0 in /opt/anaconda3/envs/federated_learning_workshop/lib/python3.12/site-packages (from pcntoolkit==1.0.0a6) (1.17.0)\n",
      "Requirement already satisfied: scipy>=1.12 in /opt/anaconda3/envs/federated_learning_workshop/lib/python3.12/site-packages (from pcntoolkit==1.0.0a6) (1.15.3)\n",
      "Requirement already satisfied: matplotlib>=3.9.2 in /opt/anaconda3/envs/federated_learning_workshop/lib/python3.12/site-packages (from pcntoolkit==1.0.0a6) (3.10.3)\n",
      "Requirement already satisfied: seaborn>=0.13.2 in /opt/anaconda3/envs/federated_learning_workshop/lib/python3.12/site-packages (from pcntoolkit==1.0.0a6) (0.13.2)\n",
      "Requirement already satisfied: numba>=0.60.0 in /opt/anaconda3/envs/federated_learning_workshop/lib/python3.12/site-packages (from pcntoolkit==1.0.0a6) (0.61.2)\n",
      "Requirement already satisfied: torch>=2.1.1 in /opt/anaconda3/envs/federated_learning_workshop/lib/python3.12/site-packages (from pcntoolkit==1.0.0a6) (2.7.0)\n",
      "Requirement already satisfied: nutpie>=0.13.2 in /opt/anaconda3/envs/federated_learning_workshop/lib/python3.12/site-packages (from pcntoolkit==1.0.0a6) (0.14.3)\n",
      "Requirement already satisfied: joblib>=1.4.2 in /opt/anaconda3/envs/federated_learning_workshop/lib/python3.12/site-packages (from pcntoolkit==1.0.0a6) (1.5.0)\n",
      "Requirement already satisfied: dill>=0.3.9 in /opt/anaconda3/envs/federated_learning_workshop/lib/python3.12/site-packages (from pcntoolkit==1.0.0a6) (0.4.0)\n",
      "Requirement already satisfied: ipywidgets>=8.1.5 in /opt/anaconda3/envs/federated_learning_workshop/lib/python3.12/site-packages (from pcntoolkit==1.0.0a6) (8.1.7)\n",
      "Requirement already satisfied: ipykernel>=6.29.5 in /opt/anaconda3/envs/federated_learning_workshop/lib/python3.12/site-packages (from pcntoolkit==1.0.0a6) (6.29.5)\n",
      "Requirement already satisfied: appnope in /opt/anaconda3/envs/federated_learning_workshop/lib/python3.12/site-packages (from ipykernel>=6.29.5->pcntoolkit==1.0.0a6) (0.1.4)\n",
      "Requirement already satisfied: comm>=0.1.1 in /opt/anaconda3/envs/federated_learning_workshop/lib/python3.12/site-packages (from ipykernel>=6.29.5->pcntoolkit==1.0.0a6) (0.2.2)\n",
      "Requirement already satisfied: debugpy>=1.6.5 in /opt/anaconda3/envs/federated_learning_workshop/lib/python3.12/site-packages (from ipykernel>=6.29.5->pcntoolkit==1.0.0a6) (1.8.14)\n",
      "Requirement already satisfied: ipython>=7.23.1 in /opt/anaconda3/envs/federated_learning_workshop/lib/python3.12/site-packages (from ipykernel>=6.29.5->pcntoolkit==1.0.0a6) (9.2.0)\n",
      "Requirement already satisfied: jupyter-client>=6.1.12 in /opt/anaconda3/envs/federated_learning_workshop/lib/python3.12/site-packages (from ipykernel>=6.29.5->pcntoolkit==1.0.0a6) (8.6.3)\n",
      "Requirement already satisfied: jupyter-core!=5.0.*,>=4.12 in /opt/anaconda3/envs/federated_learning_workshop/lib/python3.12/site-packages (from ipykernel>=6.29.5->pcntoolkit==1.0.0a6) (5.7.2)\n",
      "Requirement already satisfied: matplotlib-inline>=0.1 in /opt/anaconda3/envs/federated_learning_workshop/lib/python3.12/site-packages (from ipykernel>=6.29.5->pcntoolkit==1.0.0a6) (0.1.7)\n",
      "Requirement already satisfied: nest-asyncio in /opt/anaconda3/envs/federated_learning_workshop/lib/python3.12/site-packages (from ipykernel>=6.29.5->pcntoolkit==1.0.0a6) (1.6.0)\n",
      "Requirement already satisfied: packaging in /opt/anaconda3/envs/federated_learning_workshop/lib/python3.12/site-packages (from ipykernel>=6.29.5->pcntoolkit==1.0.0a6) (25.0)\n",
      "Requirement already satisfied: psutil in /opt/anaconda3/envs/federated_learning_workshop/lib/python3.12/site-packages (from ipykernel>=6.29.5->pcntoolkit==1.0.0a6) (7.0.0)\n",
      "Requirement already satisfied: pyzmq>=24 in /opt/anaconda3/envs/federated_learning_workshop/lib/python3.12/site-packages (from ipykernel>=6.29.5->pcntoolkit==1.0.0a6) (26.4.0)\n",
      "Requirement already satisfied: tornado>=6.1 in /opt/anaconda3/envs/federated_learning_workshop/lib/python3.12/site-packages (from ipykernel>=6.29.5->pcntoolkit==1.0.0a6) (6.5)\n",
      "Requirement already satisfied: traitlets>=5.4.0 in /opt/anaconda3/envs/federated_learning_workshop/lib/python3.12/site-packages (from ipykernel>=6.29.5->pcntoolkit==1.0.0a6) (5.14.3)\n",
      "Requirement already satisfied: decorator in /opt/anaconda3/envs/federated_learning_workshop/lib/python3.12/site-packages (from ipython>=7.23.1->ipykernel>=6.29.5->pcntoolkit==1.0.0a6) (5.2.1)\n",
      "Requirement already satisfied: ipython-pygments-lexers in /opt/anaconda3/envs/federated_learning_workshop/lib/python3.12/site-packages (from ipython>=7.23.1->ipykernel>=6.29.5->pcntoolkit==1.0.0a6) (1.1.1)\n",
      "Requirement already satisfied: jedi>=0.16 in /opt/anaconda3/envs/federated_learning_workshop/lib/python3.12/site-packages (from ipython>=7.23.1->ipykernel>=6.29.5->pcntoolkit==1.0.0a6) (0.19.2)\n",
      "Requirement already satisfied: pexpect>4.3 in /opt/anaconda3/envs/federated_learning_workshop/lib/python3.12/site-packages (from ipython>=7.23.1->ipykernel>=6.29.5->pcntoolkit==1.0.0a6) (4.9.0)\n",
      "Requirement already satisfied: prompt_toolkit<3.1.0,>=3.0.41 in /opt/anaconda3/envs/federated_learning_workshop/lib/python3.12/site-packages (from ipython>=7.23.1->ipykernel>=6.29.5->pcntoolkit==1.0.0a6) (3.0.51)\n",
      "Requirement already satisfied: pygments>=2.4.0 in /opt/anaconda3/envs/federated_learning_workshop/lib/python3.12/site-packages (from ipython>=7.23.1->ipykernel>=6.29.5->pcntoolkit==1.0.0a6) (2.19.1)\n",
      "Requirement already satisfied: stack_data in /opt/anaconda3/envs/federated_learning_workshop/lib/python3.12/site-packages (from ipython>=7.23.1->ipykernel>=6.29.5->pcntoolkit==1.0.0a6) (0.6.3)\n",
      "Requirement already satisfied: wcwidth in /opt/anaconda3/envs/federated_learning_workshop/lib/python3.12/site-packages (from prompt_toolkit<3.1.0,>=3.0.41->ipython>=7.23.1->ipykernel>=6.29.5->pcntoolkit==1.0.0a6) (0.2.13)\n",
      "Requirement already satisfied: widgetsnbextension~=4.0.14 in /opt/anaconda3/envs/federated_learning_workshop/lib/python3.12/site-packages (from ipywidgets>=8.1.5->pcntoolkit==1.0.0a6) (4.0.14)\n",
      "Requirement already satisfied: jupyterlab_widgets~=3.0.15 in /opt/anaconda3/envs/federated_learning_workshop/lib/python3.12/site-packages (from ipywidgets>=8.1.5->pcntoolkit==1.0.0a6) (3.0.15)\n",
      "Requirement already satisfied: parso<0.9.0,>=0.8.4 in /opt/anaconda3/envs/federated_learning_workshop/lib/python3.12/site-packages (from jedi>=0.16->ipython>=7.23.1->ipykernel>=6.29.5->pcntoolkit==1.0.0a6) (0.8.4)\n",
      "Requirement already satisfied: python-dateutil>=2.8.2 in /opt/anaconda3/envs/federated_learning_workshop/lib/python3.12/site-packages (from jupyter-client>=6.1.12->ipykernel>=6.29.5->pcntoolkit==1.0.0a6) (2.9.0.post0)\n",
      "Requirement already satisfied: platformdirs>=2.5 in /opt/anaconda3/envs/federated_learning_workshop/lib/python3.12/site-packages (from jupyter-core!=5.0.*,>=4.12->ipykernel>=6.29.5->pcntoolkit==1.0.0a6) (4.3.8)\n",
      "Requirement already satisfied: contourpy>=1.0.1 in /opt/anaconda3/envs/federated_learning_workshop/lib/python3.12/site-packages (from matplotlib>=3.9.2->pcntoolkit==1.0.0a6) (1.3.2)\n",
      "Requirement already satisfied: cycler>=0.10 in /opt/anaconda3/envs/federated_learning_workshop/lib/python3.12/site-packages (from matplotlib>=3.9.2->pcntoolkit==1.0.0a6) (0.12.1)\n",
      "Requirement already satisfied: fonttools>=4.22.0 in /opt/anaconda3/envs/federated_learning_workshop/lib/python3.12/site-packages (from matplotlib>=3.9.2->pcntoolkit==1.0.0a6) (4.58.0)\n",
      "Requirement already satisfied: kiwisolver>=1.3.1 in /opt/anaconda3/envs/federated_learning_workshop/lib/python3.12/site-packages (from matplotlib>=3.9.2->pcntoolkit==1.0.0a6) (1.4.8)\n",
      "Requirement already satisfied: pillow>=8 in /opt/anaconda3/envs/federated_learning_workshop/lib/python3.12/site-packages (from matplotlib>=3.9.2->pcntoolkit==1.0.0a6) (11.2.1)\n",
      "Requirement already satisfied: pyparsing>=2.3.1 in /opt/anaconda3/envs/federated_learning_workshop/lib/python3.12/site-packages (from matplotlib>=3.9.2->pcntoolkit==1.0.0a6) (3.2.3)\n",
      "Requirement already satisfied: typing-extensions>=4.6 in /opt/anaconda3/envs/federated_learning_workshop/lib/python3.12/site-packages (from nibabel>=5.3.1->pcntoolkit==1.0.0a6) (4.13.2)\n",
      "Requirement already satisfied: llvmlite<0.45,>=0.44.0dev0 in /opt/anaconda3/envs/federated_learning_workshop/lib/python3.12/site-packages (from numba>=0.60.0->pcntoolkit==1.0.0a6) (0.44.0)\n",
      "Requirement already satisfied: pyarrow>=12.0.0 in /opt/anaconda3/envs/federated_learning_workshop/lib/python3.12/site-packages (from nutpie>=0.13.2->pcntoolkit==1.0.0a6) (20.0.0)\n",
      "Requirement already satisfied: pandas>=2.0 in /opt/anaconda3/envs/federated_learning_workshop/lib/python3.12/site-packages (from nutpie>=0.13.2->pcntoolkit==1.0.0a6) (2.2.3)\n",
      "Requirement already satisfied: xarray>=2025.1.2 in /opt/anaconda3/envs/federated_learning_workshop/lib/python3.12/site-packages (from nutpie>=0.13.2->pcntoolkit==1.0.0a6) (2025.4.0)\n",
      "Requirement already satisfied: arviz>=0.20.0 in /opt/anaconda3/envs/federated_learning_workshop/lib/python3.12/site-packages (from nutpie>=0.13.2->pcntoolkit==1.0.0a6) (0.21.0)\n",
      "Requirement already satisfied: setuptools>=60.0.0 in /opt/anaconda3/envs/federated_learning_workshop/lib/python3.12/site-packages (from arviz>=0.20.0->nutpie>=0.13.2->pcntoolkit==1.0.0a6) (80.1.0)\n",
      "Requirement already satisfied: h5netcdf>=1.0.2 in /opt/anaconda3/envs/federated_learning_workshop/lib/python3.12/site-packages (from arviz>=0.20.0->nutpie>=0.13.2->pcntoolkit==1.0.0a6) (1.6.1)\n",
      "Requirement already satisfied: xarray-einstats>=0.3 in /opt/anaconda3/envs/federated_learning_workshop/lib/python3.12/site-packages (from arviz>=0.20.0->nutpie>=0.13.2->pcntoolkit==1.0.0a6) (0.8.0)\n",
      "Requirement already satisfied: h5py in /opt/anaconda3/envs/federated_learning_workshop/lib/python3.12/site-packages (from h5netcdf>=1.0.2->arviz>=0.20.0->nutpie>=0.13.2->pcntoolkit==1.0.0a6) (3.13.0)\n",
      "Requirement already satisfied: pytz>=2020.1 in /opt/anaconda3/envs/federated_learning_workshop/lib/python3.12/site-packages (from pandas>=2.0->nutpie>=0.13.2->pcntoolkit==1.0.0a6) (2025.2)\n",
      "Requirement already satisfied: tzdata>=2022.7 in /opt/anaconda3/envs/federated_learning_workshop/lib/python3.12/site-packages (from pandas>=2.0->nutpie>=0.13.2->pcntoolkit==1.0.0a6) (2025.2)\n",
      "Requirement already satisfied: ptyprocess>=0.5 in /opt/anaconda3/envs/federated_learning_workshop/lib/python3.12/site-packages (from pexpect>4.3->ipython>=7.23.1->ipykernel>=6.29.5->pcntoolkit==1.0.0a6) (0.7.0)\n",
      "Requirement already satisfied: cachetools>=4.2.1 in /opt/anaconda3/envs/federated_learning_workshop/lib/python3.12/site-packages (from pymc>=5.19.1->pcntoolkit==1.0.0a6) (5.5.2)\n",
      "Requirement already satisfied: cloudpickle in /opt/anaconda3/envs/federated_learning_workshop/lib/python3.12/site-packages (from pymc>=5.19.1->pcntoolkit==1.0.0a6) (3.1.1)\n",
      "Requirement already satisfied: pytensor<2.31,>=2.30.2 in /opt/anaconda3/envs/federated_learning_workshop/lib/python3.12/site-packages (from pymc>=5.19.1->pcntoolkit==1.0.0a6) (2.30.3)\n",
      "Requirement already satisfied: rich>=13.7.1 in /opt/anaconda3/envs/federated_learning_workshop/lib/python3.12/site-packages (from pymc>=5.19.1->pcntoolkit==1.0.0a6) (14.0.0)\n",
      "Requirement already satisfied: threadpoolctl<4.0.0,>=3.1.0 in /opt/anaconda3/envs/federated_learning_workshop/lib/python3.12/site-packages (from pymc>=5.19.1->pcntoolkit==1.0.0a6) (3.6.0)\n",
      "Requirement already satisfied: filelock>=3.15 in /opt/anaconda3/envs/federated_learning_workshop/lib/python3.12/site-packages (from pytensor<2.31,>=2.30.2->pymc>=5.19.1->pcntoolkit==1.0.0a6) (3.18.0)\n",
      "Requirement already satisfied: etuples in /opt/anaconda3/envs/federated_learning_workshop/lib/python3.12/site-packages (from pytensor<2.31,>=2.30.2->pymc>=5.19.1->pcntoolkit==1.0.0a6) (0.3.9)\n",
      "Requirement already satisfied: logical-unification in /opt/anaconda3/envs/federated_learning_workshop/lib/python3.12/site-packages (from pytensor<2.31,>=2.30.2->pymc>=5.19.1->pcntoolkit==1.0.0a6) (0.4.6)\n",
      "Requirement already satisfied: miniKanren in /opt/anaconda3/envs/federated_learning_workshop/lib/python3.12/site-packages (from pytensor<2.31,>=2.30.2->pymc>=5.19.1->pcntoolkit==1.0.0a6) (1.0.3)\n",
      "Requirement already satisfied: cons in /opt/anaconda3/envs/federated_learning_workshop/lib/python3.12/site-packages (from pytensor<2.31,>=2.30.2->pymc>=5.19.1->pcntoolkit==1.0.0a6) (0.4.6)\n",
      "Requirement already satisfied: markdown-it-py>=2.2.0 in /opt/anaconda3/envs/federated_learning_workshop/lib/python3.12/site-packages (from rich>=13.7.1->pymc>=5.19.1->pcntoolkit==1.0.0a6) (3.0.0)\n",
      "Requirement already satisfied: mdurl~=0.1 in /opt/anaconda3/envs/federated_learning_workshop/lib/python3.12/site-packages (from markdown-it-py>=2.2.0->rich>=13.7.1->pymc>=5.19.1->pcntoolkit==1.0.0a6) (0.1.2)\n",
      "Requirement already satisfied: sympy>=1.13.3 in /opt/anaconda3/envs/federated_learning_workshop/lib/python3.12/site-packages (from torch>=2.1.1->pcntoolkit==1.0.0a6) (1.14.0)\n",
      "Requirement already satisfied: networkx in /opt/anaconda3/envs/federated_learning_workshop/lib/python3.12/site-packages (from torch>=2.1.1->pcntoolkit==1.0.0a6) (3.4.2)\n",
      "Requirement already satisfied: jinja2 in /opt/anaconda3/envs/federated_learning_workshop/lib/python3.12/site-packages (from torch>=2.1.1->pcntoolkit==1.0.0a6) (3.1.6)\n",
      "Requirement already satisfied: fsspec in /opt/anaconda3/envs/federated_learning_workshop/lib/python3.12/site-packages (from torch>=2.1.1->pcntoolkit==1.0.0a6) (2025.3.2)\n",
      "Requirement already satisfied: mpmath<1.4,>=1.1.0 in /opt/anaconda3/envs/federated_learning_workshop/lib/python3.12/site-packages (from sympy>=1.13.3->torch>=2.1.1->pcntoolkit==1.0.0a6) (1.3.0)\n",
      "Requirement already satisfied: toolz in /opt/anaconda3/envs/federated_learning_workshop/lib/python3.12/site-packages (from logical-unification->pytensor<2.31,>=2.30.2->pymc>=5.19.1->pcntoolkit==1.0.0a6) (1.0.0)\n",
      "Requirement already satisfied: multipledispatch in /opt/anaconda3/envs/federated_learning_workshop/lib/python3.12/site-packages (from logical-unification->pytensor<2.31,>=2.30.2->pymc>=5.19.1->pcntoolkit==1.0.0a6) (1.0.0)\n",
      "Requirement already satisfied: MarkupSafe>=2.0 in /opt/anaconda3/envs/federated_learning_workshop/lib/python3.12/site-packages (from jinja2->torch>=2.1.1->pcntoolkit==1.0.0a6) (3.0.2)\n",
      "Requirement already satisfied: executing>=1.2.0 in /opt/anaconda3/envs/federated_learning_workshop/lib/python3.12/site-packages (from stack_data->ipython>=7.23.1->ipykernel>=6.29.5->pcntoolkit==1.0.0a6) (2.2.0)\n",
      "Requirement already satisfied: asttokens>=2.1.0 in /opt/anaconda3/envs/federated_learning_workshop/lib/python3.12/site-packages (from stack_data->ipython>=7.23.1->ipykernel>=6.29.5->pcntoolkit==1.0.0a6) (3.0.0)\n",
      "Requirement already satisfied: pure_eval in /opt/anaconda3/envs/federated_learning_workshop/lib/python3.12/site-packages (from stack_data->ipython>=7.23.1->ipykernel>=6.29.5->pcntoolkit==1.0.0a6) (0.2.3)\n",
      "Building wheels for collected packages: pcntoolkit\n",
      "  Building wheel for pcntoolkit (pyproject.toml) ... \u001b[?25ldone\n",
      "\u001b[?25h  Created wheel for pcntoolkit: filename=pcntoolkit-1.0.0a6-py3-none-any.whl size=104261 sha256=f34d038a0128500b5c9dc82c090743d04677d27b7afba4468f853b894217fd07\n",
      "  Stored in directory: /private/var/folders/m8/vtbcb7c96ms3mbjny3b70h3w0000gp/T/pip-ephem-wheel-cache-m8l2u3vc/wheels/77/8c/6e/0bad472b5c4c99397dfe43a44dfcaee7cc450de11250a99d55\n",
      "Successfully built pcntoolkit\n",
      "Installing collected packages: pcntoolkit\n",
      "  Attempting uninstall: pcntoolkit\n",
      "    Found existing installation: pcntoolkit 1.0.0a5\n",
      "    Uninstalling pcntoolkit-1.0.0a5:\n",
      "      Successfully uninstalled pcntoolkit-1.0.0a5\n",
      "Successfully installed pcntoolkit-1.0.0a6\n",
      "Requirement already satisfied: numpy==1.26.4 in /opt/anaconda3/envs/federated_learning_workshop/lib/python3.12/site-packages (1.26.4)\n"
     ]
    }
   ],
   "source": [
    "!pip install git+https://github.com/amarquand/PCNtoolkit.git@v1.alpha.6\n",
    "!pip install numpy==1.26.4"
   ]
  },
  {
   "cell_type": "code",
   "execution_count": 3,
   "metadata": {},
   "outputs": [],
   "source": [
    "import os\n",
    "from pcntoolkit import (\n",
    "    load_fcon1000,\n",
    "    NormativeModel,\n",
    ")\n",
    "import numpy as np\n",
    "import seaborn as sns \n",
    "import matplotlib.pyplot as plt\n",
    "from PIL import Image\n",
    "from pcntoolkit.util.output import Output\n",
    "from modelspec import shashb1\n",
    "Output.set_show_messages(False)"
   ]
  },
  {
   "cell_type": "markdown",
   "metadata": {},
   "source": [
    "## Why do we transfer?\n",
    "First we will demonstrate why we need transfer in the first place. \n",
    "\n",
    "Let's say we want to make a normative model, and we only have access to a small dataset:"
   ]
  },
  {
   "cell_type": "code",
   "execution_count": null,
   "metadata": {},
   "outputs": [],
   "source": [
    "# Download the dataset and select these two sites\n",
    "transfer_sites = [\"Milwaukee_b\", \"Oulu\"]\n",
    "transfer_data, _ = load_fcon1000(save_path=\"data\").split_batch_effects(\n",
    "    {\"site\": transfer_sites}, names=(\"transfer\", \"fit\")\n",
    ")\n",
    "# Select only a few features\n",
    "features_to_model = [\n",
    "    \"WM-hypointensities\",\n",
    "    \"Right-Lateral-Ventricle\",\n",
    "    \"Right-Amygdala\",\n",
    "    \"CortexVol\",\n",
    "]\n",
    "transfer_data = transfer_data.sel({\"response_vars\": features_to_model})\n",
    "print(\n",
    "    f\"This dataset contains {len(transfer_data.observations)} samples of {len(transfer_data.response_vars)} response variables\"\n",
    ")\n",
    "\n",
    "transfer_train, transfer_test = transfer_data.train_test_split()\n"
   ]
  },
  {
   "cell_type": "markdown",
   "metadata": {},
   "source": [
    "### Inspecting the data\n",
    "As we see in the plot below, our available data does cover the entire age range, but rather is concentrated in the ages between 20 and 22, and between ages 44 and 67. If we fit a model on this data, the predictions between 22 and 44 that it makes will be a 'best guess' between those clusters."
   ]
  },
  {
   "cell_type": "code",
   "execution_count": null,
   "metadata": {},
   "outputs": [],
   "source": [
    "# Inspect the data\n",
    "feature_to_plot = features_to_model[0]\n",
    "df = transfer_data.to_dataframe()\n",
    "fig, ax = plt.subplots(1, 2, figsize=(15, 5))\n",
    "\n",
    "sns.countplot(\n",
    "    data=df,\n",
    "    y=(\"batch_effects\", \"site\"),\n",
    "    hue=(\"batch_effects\", \"sex\"),\n",
    "    ax=ax[0],\n",
    "    orient=\"h\",\n",
    "    palette=\"Set1\",\n",
    ")\n",
    "ax[0].legend(title=\"Sex\")\n",
    "ax[0].set_title(\"Count of sites\")\n",
    "ax[0].set_xlabel(\"Site\")\n",
    "ax[0].set_ylabel(\"Count\")\n",
    "\n",
    "\n",
    "sns.scatterplot(\n",
    "    data=df,\n",
    "    x=(\"X\", \"age\"),\n",
    "    y=(\"Y\", feature_to_plot),\n",
    "    hue=(\"batch_effects\", \"site\"),\n",
    "    style=(\"batch_effects\", \"sex\"),\n",
    "    ax=ax[1],\n",
    "    palette=\"Set2\",\n",
    ")\n",
    "# ax[1].legend([], [])\n",
    "ax[1].set_title(f\"Scatter plot of age vs {feature_to_plot}\")\n",
    "ax[1].set_xlabel(\"Age\")\n",
    "ax[1].set_ylabel(feature_to_plot)\n",
    "\n",
    "plt.show()"
   ]
  },
  {
   "cell_type": "markdown",
   "metadata": {},
   "source": [
    "### Fitting a model to the small dataset\n",
    "Let's fit a model to this dataset."
   ]
  },
  {
   "cell_type": "code",
   "execution_count": null,
   "metadata": {},
   "outputs": [],
   "source": [
    "new_model = shashb1\n",
    "new_model.set_save_dir(\"models/new_model\")\n",
    "test = new_model.fit_predict(transfer_train, transfer_test)"
   ]
  },
  {
   "cell_type": "markdown",
   "metadata": {},
   "source": [
    "### Inspecting the model output\n",
    "Now go to the `models/new_model/plots` directory, and open some centiles plots. They do not follow a natural curve, especially in the range between 22 and 44. We already expected this, so it's nice to see it confirmed.\n"
   ]
  },
  {
   "cell_type": "markdown",
   "metadata": {},
   "source": [
    "## Transfering a pre-fitted model to our small dataset\n",
    "\n",
    "Now we will do it the right way. \n",
    "\n",
    "We will take a model that was previously fitted on a larger dataset - N.B.: on different sites - and transfer it to our small dataset. By transfering, we take the original model as a starting point, and adapt it slightly to our new dataset. This will ensure that a lot of the model characteristics are retained, so also the predictions in the age range 22-44."
   ]
  },
  {
   "cell_type": "code",
   "execution_count": 1,
   "metadata": {},
   "outputs": [
    {
     "name": "stdout",
     "output_type": "stream",
     "text": [
      "zsh:1: command not found: wget\n",
      "unzip:  cannot find or open model_to_transfer.zip, model_to_transfer.zip.zip or model_to_transfer.zip.ZIP.\n",
      "rm: model_to_transfer.zip: No such file or directory\n"
     ]
    },
    {
     "ename": "NameError",
     "evalue": "name 'NormativeModel' is not defined",
     "output_type": "error",
     "traceback": [
      "\u001b[31m---------------------------------------------------------------------------\u001b[39m",
      "\u001b[31mNameError\u001b[39m                                 Traceback (most recent call last)",
      "\u001b[36mCell\u001b[39m\u001b[36m \u001b[39m\u001b[32mIn[1]\u001b[39m\u001b[32m, line 7\u001b[39m\n\u001b[32m      5\u001b[39m get_ipython().system(\u001b[33m'\u001b[39m\u001b[33mrm model_to_transfer.zip\u001b[39m\u001b[33m'\u001b[39m)\n\u001b[32m      6\u001b[39m \u001b[38;5;66;03m# Load the normative model\u001b[39;00m\n\u001b[32m----> \u001b[39m\u001b[32m7\u001b[39m model_to_transfer = \u001b[43mNormativeModel\u001b[49m.load(\u001b[33m\"\u001b[39m\u001b[33mmodels/model_to_transfer\u001b[39m\u001b[33m\"\u001b[39m)\n\u001b[32m      8\u001b[39m \u001b[38;5;66;03m# Show the batch effects that this model was fitted on:\u001b[39;00m\n\u001b[32m      9\u001b[39m \u001b[38;5;28mprint\u001b[39m(\u001b[33m\"\u001b[39m\u001b[33mThis model was trained on these batches:\u001b[39m\u001b[33m\"\u001b[39m)\n",
      "\u001b[31mNameError\u001b[39m: name 'NormativeModel' is not defined"
     ]
    }
   ],
   "source": [
    "# Download model files\n",
    "!wget https://raw.githubusercontent.com/AuguB/federated_learning_workshop/main/models/model_to_transfer.zip -O model_to_transfer.zip\n",
    "!unzip -q model_to_transfer.zip -d models\n",
    "!rm -rf models/__MACOSX\n",
    "!rm model_to_transfer.zip\n",
    "# Load the normative model\n",
    "model_to_transfer = NormativeModel.load(\"models/model_to_transfer\")\n",
    "# Show the batch effects that this model was fitted on:\n",
    "print(\"This model was trained on these batches:\")\n",
    "model_to_transfer.unique_batch_effects"
   ]
  },
  {
   "cell_type": "code",
   "execution_count": null,
   "metadata": {},
   "outputs": [],
   "source": [
    "# Sanity check: try to use the pre-fitted model to predict on the transfer data.\n",
    "# This throws an error, because our transfer data only contains data from \"Milwaukee_b\" and \"Oulu\", which were not in the original training set (see list directly above this cell)\n",
    "try:\n",
    "    model_to_transfer.predict(transfer_test)\n",
    "except Exception as e:\n",
    "    print(f\"This should throw an error!: {e}\")"
   ]
  },
  {
   "cell_type": "code",
   "execution_count": null,
   "metadata": {},
   "outputs": [],
   "source": [
    "# Now we transfer the model:\n",
    "transfered_model = model_to_transfer.transfer_predict(\n",
    "    transfer_train, transfer_test, save_dir=\"models/transferred_model\"\n",
    ")"
   ]
  },
  {
   "cell_type": "markdown",
   "metadata": {},
   "source": [
    "## Inspect the model output\n",
    "\n",
    "Let's compare the centiles from the new model and the centiles from the transfered model side by side"
   ]
  },
  {
   "cell_type": "code",
   "execution_count": null,
   "metadata": {},
   "outputs": [],
   "source": [
    "fig, ax = plt.subplots(len(features_to_model), 2, figsize=(13, 20))\n",
    "for i, f in enumerate(features_to_model):\n",
    "    centile_plot_transferred_model = np.asarray(\n",
    "        Image.open(\n",
    "            f\"models/transferred_model/plots/centiles_{f}_transfer_test_harmonized.png\"\n",
    "        )\n",
    "    )\n",
    "    centile_plot_new_model = np.asarray(\n",
    "        Image.open(\n",
    "            f\"models/new_model/plots/centiles_{f}_transfer_test_harmonized.png\"\n",
    "        )\n",
    "    )\n",
    "\n",
    "    plt.axis(\"off\")\n",
    "    plt.rcParams[\"axes.titlesize\"] = 20\n",
    "\n",
    "    ax[i, 0].imshow(centile_plot_new_model)\n",
    "    ax[i, 0].axis(\"off\")\n",
    "    ax[i, 0].set_title(\"New model\")\n",
    "\n",
    "    ax[i, 1].imshow(centile_plot_transferred_model)\n",
    "    ax[i, 1].axis(\"off\")\n",
    "    ax[i, 1].set_title(\"Transferred model\")\n",
    "    plt.tight_layout()\n"
   ]
  }
 ],
 "metadata": {
  "kernelspec": {
   "display_name": "federated_learning_workshop",
   "language": "python",
   "name": "python3"
  },
  "language_info": {
   "codemirror_mode": {
    "name": "ipython",
    "version": 3
   },
   "file_extension": ".py",
   "mimetype": "text/x-python",
   "name": "python",
   "nbconvert_exporter": "python",
   "pygments_lexer": "ipython3",
   "version": "3.12.0"
  }
 },
 "nbformat": 4,
 "nbformat_minor": 2
}
