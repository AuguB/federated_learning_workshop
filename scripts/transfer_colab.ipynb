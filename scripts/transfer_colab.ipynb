{
 "cells": [
  {
   "cell_type": "markdown",
   "metadata": {},
   "source": [
    "# Transfer\n",
    "This notebook will transfer a pre-fitted HBR model to a small dataset. "
   ]
  },
  {
   "cell_type": "code",
   "execution_count": null,
   "metadata": {},
   "outputs": [],
   "source": [
    "!uv pip install git+https://github.com/amarquand/PCNtoolkit.git@v1.alpha.6\n",
    "!uv pip install numpy==1.26.4\n",
    "!wget https://raw.githubusercontent.com/AuguB/federated_learning_workshop/main/scripts/modelspec.py"
   ]
  },
  {
   "cell_type": "code",
   "execution_count": 3,
   "metadata": {},
   "outputs": [],
   "source": [
    "# restart the runtime session before running this cell!\n",
    "import os\n",
    "from pcntoolkit import (\n",
    "    load_fcon1000,\n",
    "    NormativeModel,\n",
    ")\n",
    "import numpy as np\n",
    "import seaborn as sns \n",
    "import matplotlib.pyplot as plt\n",
    "from PIL import Image\n",
    "from pcntoolkit.util.output import Output\n",
    "from modelspec import shashb1\n",
    "Output.set_show_messages(False)"
   ]
  },
  {
   "cell_type": "markdown",
   "metadata": {},
   "source": [
    "## Why do we transfer?\n",
    "First we will demonstrate why we need transfer in the first place. \n",
    "\n",
    "Let's say we want to make a normative model, and we only have access to a small dataset:"
   ]
  },
  {
   "cell_type": "code",
   "execution_count": null,
   "metadata": {},
   "outputs": [],
   "source": [
    "# Download the dataset and select these two sites\n",
    "transfer_sites = [\"Milwaukee_b\", \"Oulu\"]\n",
    "transfer_data, _ = load_fcon1000(save_path=\"data\").split_batch_effects(\n",
    "    {\"site\": transfer_sites}, names=(\"transfer\", \"fit\")\n",
    ")\n",
    "# Select only a few features\n",
    "features_to_model = [\n",
    "    \"WM-hypointensities\",\n",
    "    \"Right-Lateral-Ventricle\",\n",
    "    \"Right-Amygdala\",\n",
    "    \"CortexVol\",\n",
    "]\n",
    "transfer_data = transfer_data.sel({\"response_vars\": features_to_model})\n",
    "print(\n",
    "    f\"This dataset contains {len(transfer_data.observations)} samples of {len(transfer_data.response_vars)} response variables\"\n",
    ")\n",
    "\n",
    "transfer_train, transfer_test = transfer_data.train_test_split()\n"
   ]
  },
  {
   "cell_type": "markdown",
   "metadata": {},
   "source": [
    "### Inspecting the data\n",
    "As we see in the plot below, our available data does cover the entire age range, but rather is concentrated in the ages between 20 and 22, and between ages 44 and 67. If we fit a model on this data, the predictions between 22 and 44 that it makes will be a 'best guess' between those clusters."
   ]
  },
  {
   "cell_type": "code",
   "execution_count": null,
   "metadata": {},
   "outputs": [],
   "source": [
    "# Inspect the data\n",
    "feature_to_plot = features_to_model[0]\n",
    "df = transfer_data.to_dataframe()\n",
    "fig, ax = plt.subplots(1, 2, figsize=(15, 5))\n",
    "\n",
    "sns.countplot(\n",
    "    data=df,\n",
    "    y=(\"batch_effects\", \"site\"),\n",
    "    hue=(\"batch_effects\", \"sex\"),\n",
    "    ax=ax[0],\n",
    "    orient=\"h\",\n",
    "    palette=\"Set1\",\n",
    ")\n",
    "ax[0].legend(title=\"Sex\")\n",
    "ax[0].set_title(\"Count of sites\")\n",
    "ax[0].set_xlabel(\"Site\")\n",
    "ax[0].set_ylabel(\"Count\")\n",
    "\n",
    "\n",
    "sns.scatterplot(\n",
    "    data=df,\n",
    "    x=(\"X\", \"age\"),\n",
    "    y=(\"Y\", feature_to_plot),\n",
    "    hue=(\"batch_effects\", \"site\"),\n",
    "    style=(\"batch_effects\", \"sex\"),\n",
    "    ax=ax[1],\n",
    "    palette=\"Set2\",\n",
    ")\n",
    "# ax[1].legend([], [])\n",
    "ax[1].set_title(f\"Scatter plot of age vs {feature_to_plot}\")\n",
    "ax[1].set_xlabel(\"Age\")\n",
    "ax[1].set_ylabel(feature_to_plot)\n",
    "\n",
    "plt.show()"
   ]
  },
  {
   "cell_type": "markdown",
   "metadata": {},
   "source": [
    "### Fitting a new model to the small dataset\n",
    "Let's fit a new model to this dataset."
   ]
  },
  {
   "cell_type": "code",
   "execution_count": null,
   "metadata": {},
   "outputs": [],
   "source": [
    "Output.set_show_messages(True)\n",
    "new_model = shashb1\n",
    "new_model.set_save_dir(\"models/new_model\")\n",
    "test = new_model.fit_predict(transfer_train, transfer_test)"
   ]
  },
  {
   "cell_type": "markdown",
   "metadata": {},
   "source": [
    "### Inspecting the model output\n",
    "Now go to the `models/new_model/plots` directory, and open some centiles plots. They do not follow a natural curve, especially in the range between 22 and 44. We already expected this, so it's nice to see it confirmed.\n"
   ]
  },
  {
   "cell_type": "markdown",
   "metadata": {},
   "source": [
    "## Transfering a pre-fitted model to our small dataset\n",
    "\n",
    "Now we will do it the right way. \n",
    "\n",
    "We will take a model that was previously fitted on a larger dataset - N.B.: on different sites - and transfer it to our small dataset. By transfering, we take the original model as a starting point, and adapt it slightly to our new dataset. This will ensure that a lot of the model characteristics are retained, so also the predictions in the age range 22-44."
   ]
  },
  {
   "cell_type": "code",
   "execution_count": null,
   "metadata": {},
   "outputs": [],
   "source": [
    "# Download model files\n",
    "!wget https://raw.githubusercontent.com/AuguB/federated_learning_workshop/main/models/model_to_transfer.zip -O model_to_transfer.zip\n",
    "!unzip -q model_to_transfer.zip -d models\n",
    "!rm -rf models/__MACOSX\n",
    "!rm model_to_transfer.zip\n",
    "# Load the normative model\n",
    "model_to_transfer = NormativeModel.load(\"models/model_to_transfer\")\n",
    "# Show the batch effects that this model was fitted on:\n",
    "print(\"This model was trained on these batches:\")\n",
    "model_to_transfer.unique_batch_effects"
   ]
  },
  {
   "cell_type": "code",
   "execution_count": null,
   "metadata": {},
   "outputs": [],
   "source": [
    "# Sanity check: try to use the pre-fitted model to predict on the transfer data.\n",
    "# This throws an error, because our transfer data only contains data from \"Milwaukee_b\" and \"Oulu\", which were not in the original training set (see list directly above this cell)\n",
    "try:\n",
    "    model_to_transfer.predict(transfer_test)\n",
    "except Exception as e:\n",
    "    print(f\"This should throw an error!: {e}\")"
   ]
  },
  {
   "cell_type": "code",
   "execution_count": null,
   "metadata": {},
   "outputs": [],
   "source": [
    "# Now we transfer the model:\n",
    "transfered_model = model_to_transfer.transfer_predict(\n",
    "    transfer_train, transfer_test, save_dir=\"models/transferred_model\"\n",
    ")"
   ]
  },
  {
   "cell_type": "markdown",
   "metadata": {},
   "source": [
    "## Inspect the model output\n",
    "\n",
    "Let's compare the centiles from the new model and the centiles from the transfered model side by side"
   ]
  },
  {
   "cell_type": "code",
   "execution_count": null,
   "metadata": {},
   "outputs": [],
   "source": [
    "fig, ax = plt.subplots(len(features_to_model), 2, figsize=(13, 20))\n",
    "for i, f in enumerate(features_to_model):\n",
    "    centile_plot_transferred_model = np.asarray(\n",
    "        Image.open(\n",
    "            f\"models/transferred_model/plots/centiles_{f}_transfer_test_harmonized.png\"\n",
    "        )\n",
    "    )\n",
    "    centile_plot_new_model = np.asarray(\n",
    "        Image.open(\n",
    "            f\"models/new_model/plots/centiles_{f}_transfer_test_harmonized.png\"\n",
    "        )\n",
    "    )\n",
    "\n",
    "    plt.axis(\"off\")\n",
    "    plt.rcParams[\"axes.titlesize\"] = 20\n",
    "\n",
    "    ax[i, 0].imshow(centile_plot_new_model)\n",
    "    ax[i, 0].axis(\"off\")\n",
    "    ax[i, 0].set_title(\"New model\")\n",
    "\n",
    "    ax[i, 1].imshow(centile_plot_transferred_model)\n",
    "    ax[i, 1].axis(\"off\")\n",
    "    ax[i, 1].set_title(\"Transferred model\")\n",
    "    plt.tight_layout()\n"
   ]
  }
 ],
 "metadata": {
  "kernelspec": {
   "display_name": "federated_learning_workshop",
   "language": "python",
   "name": "python3"
  },
  "language_info": {
   "codemirror_mode": {
    "name": "ipython",
    "version": 3
   },
   "file_extension": ".py",
   "mimetype": "text/x-python",
   "name": "python",
   "nbconvert_exporter": "python",
   "pygments_lexer": "ipython3",
   "version": "3.12.0"
  }
 },
 "nbformat": 4,
 "nbformat_minor": 2
}
